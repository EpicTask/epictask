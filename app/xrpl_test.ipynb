{
 "cells": [
  {
   "cell_type": "code",
   "execution_count": 1,
   "metadata": {},
   "outputs": [],
   "source": [
    "import xumm\n",
    "import json\n",
    "import asyncio\n",
    "\n",
    "async def send_payment_request(amount, currency, source, destination, payment_reference):\n",
    "    # Create the XUMM payment request payload\n",
    "    xumm_payload = {\n",
    "        \"txjson\": {\n",
    "            \"TransactionType\": \"Payment\",\n",
    "            \"Account\": source,\n",
    "            \"Destination\": destination,\n",
    "            \"Amount\" : str(amount),\n",
    "        },\n",
    "        \"Fee\":\"12\",\n",
    "        \"options\": {\n",
    "            \"expire\": 1800\n",
    "        },\n",
    "        \"user_token\":\"xxxxxxxx-xxxx-xxxx-xxxx-xxxxxxxxxxxx\"\n",
    "    }\n",
    "    \n",
    "    def callback_func(event):\n",
    "        print('New payload event: {}'.format(event['data']))\n",
    "\n",
    "        if 'signed' in event['data'] and event['data']['signed'] == True:\n",
    "\n",
    "            print('The sign request was rejected :(')\n",
    "            return event['data']\n",
    "\n",
    "        if 'signed' in event['data'] and event['data']['signed'] == False:\n",
    "            print('Woohoo! The sign request was signed :)')\n",
    "            return False    \n",
    "\n",
    "    # Create the payment request with the XUMM SDK\n",
    "    xumm_client = xumm.XummSdk()\n",
    "    subscription = await sdk.payload.create_and_subscribe(\n",
    "      xumm_payload,\n",
    "      callback_func,\n",
    "    )\n",
    "\n",
    "    # Print the payment request URL\n",
    "    print(json.dumps(xumm_response.to_dict(), indent=4, sort_keys=True))\n",
    "    print('New payload created, URL: {}'.format(subscription.created.next.always))\n",
    "    print('  > Pushed: {}'.format('yes' if subscription.created.pushed else 'no'))\n",
    "\n",
    "    \"\"\"\n",
    "    Now let's wait until the subscription resolved (by returning something)\n",
    "    in the callback function.\n",
    "    \"\"\"\n",
    "    resolve_data = await subscription.resolved()\n",
    "\n",
    "    if resolve_data['signed'] == False:\n",
    "        print('The sign request was rejected :(')\n",
    "\n",
    "    if (resolve_data['signed'] == True):\n",
    "        print('Woohoo! The sign request was signed :)')\n",
    "\n",
    "    \"\"\"\n",
    "    Let's fetch the full payload end result, and get the issued\n",
    "    user token, we can use to send our next payload per Push notification\n",
    "    \"\"\"\n",
    "    result = sdk.payload.get(resolve_data['payload_uuidv4'])\n",
    "    print('User token: {}'.format(result.application.issued_user_token))\n",
    "    \n"
   ]
  },
  {
   "cell_type": "code",
   "execution_count": 3,
   "metadata": {},
   "outputs": [
    {
     "data": {
      "text/plain": [
       "<coroutine object send_payment_request at 0x10ee8de40>"
      ]
     },
     "execution_count": 3,
     "metadata": {},
     "output_type": "execute_result"
    }
   ],
   "source": [
    "loop = asyncio.get_event_loop()\n",
    "loop.run_until_complete(send_payment_request(10000,'XRP','rPNJAfA5QnHTcZRduPqxAJAVcjiHRYjcsP','rDdZucpaMGFpvjqKRaHrqXjRg1PVStZSmh','test payment request'))"
   ]
  },
  {
   "cell_type": "code",
   "execution_count": null,
   "metadata": {},
   "outputs": [],
   "source": []
  },
  {
   "cell_type": "code",
   "execution_count": null,
   "metadata": {},
   "outputs": [],
   "source": []
  },
  {
   "cell_type": "code",
   "execution_count": null,
   "metadata": {},
   "outputs": [],
   "source": []
  },
  {
   "cell_type": "code",
   "execution_count": null,
   "metadata": {},
   "outputs": [],
   "source": [
    "import xrpl\n",
    "import xrpl.wallet\n",
    "from xumm import Xumm\n",
    "\n",
    "def send_payment_transaction(amount, destination, sender_secret, sender_address):\n",
    "    # Create a wallet object for the sender\n",
    "    sender_wallet = xrpl.wallet.Wallet(seed=sender_secret, is_test=True)\n",
    "\n",
    "    # Construct the payment transaction\n",
    "    payment = xrpl.models.transactions.Payment(\n",
    "        account=sender_wallet.classic_address,\n",
    "        amount=str(amount),\n",
    "        destination=destination,\n",
    "        fee=xrpl.amounts.to_drops(\"0.000012\"),\n",
    "        sequence=xrpl.clients.TestnetClient().get_account_info(sender_wallet.classic_address).sequence\n",
    "    )\n",
    "\n",
    "    # Sign the transaction with the sender's wallet using the XRPL library\n",
    "    signed_tx = xrpl.transaction.safe_sign_and_autofill_transaction(payment, sender_wallet)\n",
    "\n",
    "    # Create the XUMM transaction payload\n",
    "    xumm_payload = {\n",
    "        \"txjson\": signed_tx.to_dict(),\n",
    "        \"options\": {\n",
    "            \"submit\": True\n",
    "        }\n",
    "    }\n",
    "\n",
    "    # Sign the transaction with the XUMM wallet using the XUMM SDK\n",
    "    xumm = Xumm(api_key='YOUR_API_KEY_HERE')\n",
    "    xumm_response = xumm.create_payload(xumm_payload)\n",
    "    xumm_signed_tx = xumm.get_signed_tx_hex(xumm_response.payload_uuid, sender_wallet.seed)\n",
    "\n",
    "    # Submit the signed transaction to the XRPL testnet\n",
    "    client = xrpl.clients.TestnetClient()\n",
    "    response = client.submit(xumm_signed_tx)\n",
    "    print(response)\n"
   ]
  },
  {
   "cell_type": "code",
   "execution_count": null,
   "metadata": {},
   "outputs": [],
   "source": [
    "{\n",
    "    \"next\": {\n",
    "        \"always\": \"https://xumm.app/sign/3bbba11b-7481-4994-b862-557dc3198460\"\n",
    "    },\n",
    "    \"pushed\": false,\n",
    "    \"refs\": {\n",
    "        \"qr_matrix\": \"https://xumm.app/sign/3bbba11b-7481-4994-b862-557dc3198460_q.json\",\n",
    "        \"qr_png\": \"https://xumm.app/sign/3bbba11b-7481-4994-b862-557dc3198460_q.png\",\n",
    "        \"qr_uri_quality_opts\": [\n",
    "            \"m\",\n",
    "            \"q\",\n",
    "            \"h\"\n",
    "        ],\n",
    "        \"websocket_status\": \"wss://xumm.app/sign/3bbba11b-7481-4994-b862-557dc3198460\"\n",
    "    },\n",
    "    \"uuid\": \"3bbba11b-7481-4994-b862-557dc3198460\"\n",
    "}"
   ]
  }
 ],
 "metadata": {
  "kernelspec": {
   "display_name": "Python 3 (ipykernel)",
   "language": "python",
   "name": "python3"
  },
  "language_info": {
   "codemirror_mode": {
    "name": "ipython",
    "version": 3
   },
   "file_extension": ".py",
   "mimetype": "text/x-python",
   "name": "python",
   "nbconvert_exporter": "python",
   "pygments_lexer": "ipython3",
   "version": "3.9.6"
  }
 },
 "nbformat": 4,
 "nbformat_minor": 2
}
