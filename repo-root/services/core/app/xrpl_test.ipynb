{
 "cells": [
  {
   "cell_type": "code",
   "execution_count": null,
   "metadata": {},
   "outputs": [],
   "source": [
    "import xumm\n",
    "import json\n",
    "import asyncio\n",
    "import nest_asyncio\n",
    "\n",
    "\n",
    "async def send_payment_request(amount, currency, source, destination, payment_reference):\n",
    "    \n",
    "    # Create the XUMM payment request payload\n",
    "    xumm_payload = {\n",
    "        \"txjson\": {\n",
    "            \"TransactionType\": \"Payment\",\n",
    "            \"Account\": source,\n",
    "            \"Destination\": destination,\n",
    "            \"Amount\" : str(amount),\n",
    "        },\n",
    "        \"Fee\":\"12\",\n",
    "        \"options\": {\n",
    "            \"expire\": 1\n",
    "        },\n",
    "        \"user_token\":\"f53f2b43-a000-47fc-bcd8-d4f5acf9d234\"\n",
    "    }\n",
    "    \n",
    "    def callback_func(event):\n",
    "        print('New payload event: {}'.format(event['data']))\n",
    "\n",
    "        if 'signed' in event['data']:\n",
    "            print('Signed')\n",
    "            return event['data']\n",
    "\n",
    "    # Create the payment request with the XUMM SDK\n",
    "    sdk = xumm.XummSdk('dc4acbcf-2841-4bea-aafc-ee2fbfc5ec64', 'c50fc9f2-9a9b-4981-a021-d64b41389203')\n",
    "    pong = sdk.ping()\n",
    "    print(pong)\n",
    "    subscription = await sdk.payload.create_and_subscribe(\n",
    "      xumm_payload,\n",
    "      callback_func,\n",
    "    )\n",
    "\n",
    "    # Print the payment request URL\n",
    "    print(json.dumps(subscription.created.to_dict(), indent=4, sort_keys=True))\n",
    "    print('New payload created, URL: {}'.format(subscription.created.next.always))\n",
    "    print('  > Pushed: {}'.format('yes' if subscription.created.pushed else 'no'))\n",
    "\n",
    "    \"\"\"\n",
    "    Wait until the subscription resolves (by returning something)\n",
    "    in the callback function.\n",
    "    \"\"\"\n",
    "    resolve_data = await subscription.resolved()\n",
    "    print(resolve_data)\n",
    "    try:\n",
    "        if resolve_data['signed'] == False:\n",
    "            print('The sign request was rejected.')\n",
    "\n",
    "        else:\n",
    "            print('The sign request was approved.')\n",
    "            \"\"\"\n",
    "            Fetch the full payload end result, and get the issued\n",
    "            user token, we can use to send our next payload per Push notification\n",
    "            \"\"\"\n",
    "            result = sdk.payload.get(resolve_data['payload_uuidv4'])\n",
    "            print('User token: {}'.format(result.application.issued_user_token))\n",
    "        \n",
    "    except:\n",
    "        print('Error')"
   ]
  },
  {
   "cell_type": "code",
   "execution_count": null,
   "metadata": {},
   "outputs": [],
   "source": [
    "# Apply the nest_asyncio patch\n",
    "nest_asyncio.apply()\n",
    "\n",
    "# Run the send_payment_request coroutine\n",
    "loop = asyncio.get_event_loop()\n",
    "loop.run_until_complete(send_payment_request(100000, 'XRP', 'rB4iz44nvW2yGDBYTkspVfyR2NMsR3NtfF', 'rpaxHGQVgQSXF1HaKGRpLKm6X7eh26v6eV', 'test payment request'))"
   ]
  },
  {
   "cell_type": "code",
   "execution_count": null,
   "metadata": {},
   "outputs": [],
   "source": []
  },
  {
   "cell_type": "code",
   "execution_count": null,
   "metadata": {},
   "outputs": [],
   "source": [
    "send_payment_request(10000, 'XRP', 'rB4iz44nvW2yGDBYTkspVfyR2NMsR3NtfF', 'rMakHZJfto1GAkVPYxkFLZwzrNmkcgvW62', 'test payment request')"
   ]
  },
  {
   "cell_type": "code",
   "execution_count": null,
   "metadata": {},
   "outputs": [],
   "source": [
    "('dc4acbcf-2841-4bea-aafc-ee2fbfc5ec64', 'c50fc9f2-9a9b-4981-a021-d64b41389203')"
   ]
  },
  {
   "cell_type": "code",
   "execution_count": null,
   "metadata": {},
   "outputs": [],
   "source": [
    "{\n",
    "    \"next\": {\n",
    "        \"always\": \"https://xumm.app/sign/3bbba11b-7481-4994-b862-557dc3198460\"\n",
    "    },\n",
    "    \"pushed\": false,\n",
    "    \"refs\": {\n",
    "        \"qr_matrix\": \"https://xumm.app/sign/3bbba11b-7481-4994-b862-557dc3198460_q.json\",\n",
    "        \"qr_png\": \"https://xumm.app/sign/3bbba11b-7481-4994-b862-557dc3198460_q.png\",\n",
    "        \"qr_uri_quality_opts\": [\n",
    "            \"m\",\n",
    "            \"q\",\n",
    "            \"h\"\n",
    "        ],\n",
    "        \"websocket_status\": \"wss://xumm.app/sign/3bbba11b-7481-4994-b862-557dc3198460\"\n",
    "    },\n",
    "    \"uuid\": \"3bbba11b-7481-4994-b862-557dc3198460\"\n",
    "}"
   ]
  },
  {
   "cell_type": "code",
   "execution_count": 1,
   "metadata": {},
   "outputs": [],
   "source": [
    "import xumm\n",
    "import json\n",
    "import asyncio\n",
    "import nest_asyncio\n",
    "\n",
    "async def send_payment_request(amount, currency, source, destination, payment_reference):\n",
    "    \n",
    "    # Create the XUMM payment request payload\n",
    "    xumm_payload = {\n",
    "        \"txjson\": {\n",
    "            \"TransactionType\": \"Payment\",\n",
    "            \"Account\": source,\n",
    "            \"Destination\": destination,\n",
    "            \"Amount\" : str(amount),\n",
    "        },\n",
    "        \"Fee\":\"12\",\n",
    "        \"options\": {\n",
    "            \"expire\": 3\n",
    "        },\n",
    "        \"user_token\":\"f53f2b43-a000-47fc-bcd8-d4f5acf9d234\"\n",
    "    }\n",
    "    \n",
    "    # Create the payment request with the XUMM SDK\n",
    "    sdk = xumm.XummSdk('dc4acbcf-2841-4bea-aafc-ee2fbfc5ec64', 'c50fc9f2-9a9b-4981-a021-d64b41389203')\n",
    "    try:\n",
    "        subscription = sdk.payload.create(xumm_payload)\n",
    "        print(json.dumps(subscription.to_dict(), indent=4, sort_keys=True))\n",
    "        print('New payload created, URL: {}'.format(subscription.next.always))\n",
    "    except Exception as e:\n",
    "        print(f\"Error creating subscription: {e}\")\n",
    "        # Handle the error as appropriate\n",
    "        \n",
    "# async def main():\n",
    "#     amount = 10000\n",
    "#     currency = \"XRP\"\n",
    "#     source = \"rB4iz44nvW2yGDBYTkspVfyR2NMsR3NtfF\"\n",
    "#     destination = \"rMakHZJfto1GAkVPYxkFLZwzrNmkcgvW62\"\n",
    "#     payment_reference = \"test payment request\"\n",
    "\n",
    "# #     task = asyncio.create_task(send_payment_request(amount, currency, source, destination, payment_reference))\n",
    "# #     await task\n",
    "#     await send_payment_request(amount, currency, source, destination, payment_reference)\n",
    "\n",
    "# if __name__ == \"__main__\":\n",
    "#     await main()"
   ]
  },
  {
   "cell_type": "code",
   "execution_count": 2,
   "metadata": {},
   "outputs": [
    {
     "name": "stdout",
     "output_type": "stream",
     "text": [
      "{\n",
      "    \"next\": {\n",
      "        \"always\": \"https://xumm.app/sign/42f8d56d-759b-4856-bbac-685b3448ac5c\"\n",
      "    },\n",
      "    \"pushed\": true,\n",
      "    \"refs\": {\n",
      "        \"qr_matrix\": \"https://xumm.app/sign/42f8d56d-759b-4856-bbac-685b3448ac5c_q.json\",\n",
      "        \"qr_png\": \"https://xumm.app/sign/42f8d56d-759b-4856-bbac-685b3448ac5c_q.png\",\n",
      "        \"qr_uri_quality_opts\": [\n",
      "            \"m\",\n",
      "            \"q\",\n",
      "            \"h\"\n",
      "        ],\n",
      "        \"websocket_status\": \"wss://xumm.app/sign/42f8d56d-759b-4856-bbac-685b3448ac5c\"\n",
      "    },\n",
      "    \"uuid\": \"42f8d56d-759b-4856-bbac-685b3448ac5c\"\n",
      "}\n",
      "New payload created, URL: https://xumm.app/sign/42f8d56d-759b-4856-bbac-685b3448ac5c\n"
     ]
    }
   ],
   "source": [
    "# Apply the nest_asyncio patch\n",
    "nest_asyncio.apply()\n",
    "\n",
    "# Run the send_payment_request coroutine\n",
    "loop = asyncio.get_event_loop()\n",
    "loop.run_until_complete(send_payment_request(100000, 'XRP', 'rB4iz44nvW2yGDBYTkspVfyR2NMsR3NtfF', 'rpaxHGQVgQSXF1HaKGRpLKm6X7eh26v6eV', 'test payment request'))"
   ]
  },
  {
   "cell_type": "code",
   "execution_count": null,
   "metadata": {},
   "outputs": [],
   "source": [
    "'dc4acbcf-2841-4bea-aafc-ee2fbfc5ec64', 'c50fc9f2-9a9b-4981-a021-d64b41389203'"
   ]
  },
  {
   "cell_type": "code",
   "execution_count": null,
   "metadata": {},
   "outputs": [],
   "source": [
    "async def getPayload():\n",
    "    sdk = xumm.XummSdk('dc4acbcf-2841-4bea-aafc-ee2fbfc5ec64', 'c50fc9f2-9a9b-4981-a021-d64b41389203')\n",
    "    subscription = sdk.payload.get('a4ead1c6-59c2-4d76-b5f1-6fd9be539e7f')\n",
    "    print(json.dumps(subscription.to_dict()))\n",
    "    print('New payload created, URL: {}'.format(subscription.created.next.always))"
   ]
  },
  {
   "cell_type": "code",
   "execution_count": null,
   "metadata": {},
   "outputs": [],
   "source": [
    "# Apply the nest_asyncio patch\n",
    "nest_asyncio.apply()\n",
    "\n",
    "# Run the send_payment_request coroutine\n",
    "loop = asyncio.get_event_loop()\n",
    "loop.run_until_complete(getPayload())"
   ]
  },
  {
   "cell_type": "code",
   "execution_count": null,
   "metadata": {},
   "outputs": [],
   "source": []
  }
 ],
 "metadata": {
  "kernelspec": {
   "display_name": "Python 3 (ipykernel)",
   "language": "python",
   "name": "python3"
  },
  "language_info": {
   "codemirror_mode": {
    "name": "ipython",
    "version": 3
   },
   "file_extension": ".py",
   "mimetype": "text/x-python",
   "name": "python",
   "nbconvert_exporter": "python",
   "pygments_lexer": "ipython3",
   "version": "3.9.6"
  }
 },
 "nbformat": 4,
 "nbformat_minor": 2
}
