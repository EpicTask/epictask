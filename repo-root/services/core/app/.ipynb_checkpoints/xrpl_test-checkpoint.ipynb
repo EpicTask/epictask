{
 "cells": [
  {
   "cell_type": "code",
   "execution_count": 2,
   "metadata": {},
   "outputs": [],
   "source": [
    "# from xrpl.account import get_balance\n",
    "from xrpl.clients import JsonRpcClient\n",
    "# from xrpl.models.requests import Tx\n",
    "# from xrpl.models.transactions import Payment\n",
    "# from xrpl.transaction import autofill_and_sign, send_reliable_submission\n",
    "from xrpl.wallet import generate_faucet_wallet\n",
    "import xumm\n",
    "\n",
    "def send_test_transaction(amount, address):\n",
    "    # Generate a new XRPL testnet wallet\n",
    "    wallet = generate_faucet_wallet()\n",
    "\n",
    "    # Create the XUMM transaction payload\n",
    "    xumm_payload = {\n",
    "        \"txjson\": {\n",
    "            \"TransactionType\": \"Payment\",\n",
    "            \"Account\": wallet.classic_address,\n",
    "            \"Amount\": str(amount),\n",
    "            \"Destination\": address\n",
    "        },\n",
    "        \"options\": {\n",
    "            \"submit\": True\n",
    "        }\n",
    "    }\n",
    "\n",
    "    # Sign the transaction with the XUMM wallet using the XUMM SDK\n",
    "    xumm = Xumm(api_key='YOUR_API_KEY_HERE')\n",
    "    xumm_response = xumm.create_payload(xumm_payload)\n",
    "    xumm_signed_tx = xumm.get_signed_tx_hex(xumm_response.payload_uuid, wallet.seed)\n",
    "\n",
    "    # Submit the signed transaction to the XRPL testnet\n",
    "    client = JsonRpcClient.TestnetClient()\n",
    "    response = client.submit(xumm_signed_tx)\n",
    "    print(response)\n"
   ]
  },
  {
   "cell_type": "code",
   "execution_count": null,
   "metadata": {},
   "outputs": [],
   "source": []
  }
 ],
 "metadata": {
  "kernelspec": {
   "display_name": "Python 3 (ipykernel)",
   "language": "python",
   "name": "python3"
  },
  "language_info": {
   "codemirror_mode": {
    "name": "ipython",
    "version": 3
   },
   "file_extension": ".py",
   "mimetype": "text/x-python",
   "name": "python",
   "nbconvert_exporter": "python",
   "pygments_lexer": "ipython3",
   "version": "3.9.6"
  }
 },
 "nbformat": 4,
 "nbformat_minor": 2
}
